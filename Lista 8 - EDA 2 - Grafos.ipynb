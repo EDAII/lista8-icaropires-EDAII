{
 "cells": [
  {
   "cell_type": "markdown",
   "metadata": {},
   "source": [
    "# Lista 8 - EDA 2 - Grafos - Dijkstra utilizando heap (com ilustrações)\n",
    "**Aluno: Ícaro Pires de Souza Aragão**<br>\n",
    "**Matrícula: 15/0129815**"
   ]
  },
  {
   "cell_type": "markdown",
   "metadata": {},
   "source": [
    "## Preenchendo os dados"
   ]
  },
  {
   "cell_type": "code",
   "execution_count": 11,
   "metadata": {},
   "outputs": [
    {
     "name": "stdout",
     "output_type": "stream",
     "text": [
      "Insira o número de arestas: 9\n",
      "\tInsira a origem, destino e peso separados por espaço: 1 2 9\n",
      "\tInsira a origem, destino e peso separados por espaço: 1 3 7\n",
      "\tInsira a origem, destino e peso separados por espaço: 1 4 4\n",
      "\tInsira a origem, destino e peso separados por espaço: 1 5 2\n",
      "\tInsira a origem, destino e peso separados por espaço: 2 3 1\n",
      "\tInsira a origem, destino e peso separados por espaço: 2 6 3\n",
      "\tInsira a origem, destino e peso separados por espaço: 3 4 2\n",
      "\tInsira a origem, destino e peso separados por espaço: 4 5 1\n",
      "\tInsira a origem, destino e peso separados por espaço: 5 6 11\n",
      "\n",
      "Lista de adjacências:\n",
      "\tNó 1 tem conexão com: 2 (peso: 9), 3 (peso: 7), 4 (peso: 4), 5 (peso: 2)\n",
      "\tNó 2 tem conexão com: 1 (peso: 9), 3 (peso: 1), 6 (peso: 3)\n",
      "\tNó 3 tem conexão com: 1 (peso: 7), 2 (peso: 1), 4 (peso: 2)\n",
      "\tNó 4 tem conexão com: 1 (peso: 4), 3 (peso: 2), 5 (peso: 1)\n",
      "\tNó 5 tem conexão com: 1 (peso: 2), 4 (peso: 1), 6 (peso: 11)\n",
      "\tNó 6 tem conexão com: 2 (peso: 3), 5 (peso: 11)\n"
     ]
    }
   ],
   "source": [
    "from collections import namedtuple\n",
    "\n",
    "MAX = 10010\n",
    "\n",
    "Edge = namedtuple('Edge', ('src', 'dest', 'weight'))\n",
    "Adj = namedtuple('Adj', ('dest', 'weight'))\n",
    "\n",
    "N = int(input('Insira o número de arestas: '))\n",
    "\n",
    "edges = [Edge(src, dest, weight) for _ in range(N) for src, dest, weight in\n",
    "         [map(int, input('\\tInsira a origem, destino e peso separados por espaço: ').split())]]\n",
    "\n",
    "adjs_list = [[] for _ in range(MAX)]\n",
    "present_nodes = set()\n",
    "for src, dest, weight in edges:\n",
    "    adjs_list[src] += [Adj(dest, weight)]\n",
    "    adjs_list[dest] += [Adj(src, weight)]\n",
    "    \n",
    "    present_nodes.add(src)\n",
    "    present_nodes.add(dest)\n",
    "\n",
    "print('\\nLista de adjacências:')\n",
    "for i in present_nodes:\n",
    "    print('\\tNó {} tem conexão com: {}'.format(\n",
    "        i, ', '.join(['{} (peso: {})'.format(adj.dest, adj.weight) for adj in adjs_list[i]])\n",
    "    ))"
   ]
  },
  {
   "cell_type": "markdown",
   "metadata": {},
   "source": [
    "## Implementando algoritmo"
   ]
  },
  {
   "cell_type": "code",
   "execution_count": 12,
   "metadata": {},
   "outputs": [],
   "source": [
    "# Rodar primeiro a célula de preenchimento dos dados\n",
    "\n",
    "from heapq import heappop, heappush\n",
    "\n",
    "oo = 2**64\n",
    "dist = [oo for _ in range(MAX)]\n",
    "pred = [-1 for _ in range(MAX)]\n",
    "visited = set()\n",
    "\n",
    "\n",
    "def dijkstra(start):\n",
    "    global adjs_list\n",
    "    global visited\n",
    "    global dist\n",
    "    global pred\n",
    "    global N\n",
    "    \n",
    "    dist[start], pred[start], heap = 0, start, []\n",
    "    \n",
    "    heappush(heap, (0, start)) # distância e nó\n",
    "    \n",
    "    while heap:\n",
    "        distance, src = heappop(heap)\n",
    "\n",
    "             \n",
    "        if src not in visited:\n",
    "            visited.add(src)\n",
    "\n",
    "            for dest, weight in adjs_list[src]:\n",
    "                if dist[dest] > distance + weight:\n",
    "                    dist[dest] = distance + weight\n",
    "                    pred[dest] = src\n",
    "                    heappush(heap, (dist[dest], dest))"
   ]
  },
  {
   "cell_type": "markdown",
   "metadata": {},
   "source": [
    "## Utilizando o Algoritmo e Testando"
   ]
  },
  {
   "cell_type": "code",
   "execution_count": 13,
   "metadata": {},
   "outputs": [
    {
     "name": "stdout",
     "output_type": "stream",
     "text": [
      "dest src 2 1\n",
      "dest src 3 1\n",
      "dest src 4 1\n",
      "dest src 5 1\n",
      "dest src 4 5\n",
      "dest src 6 5\n",
      "dest src 3 4\n",
      "dest src 2 3\n",
      "dest src 6 2\n",
      "Nó 1, dist 0, pred 1\n",
      "Nó 2, dist 6, pred 3\n",
      "Nó 3, dist 5, pred 4\n",
      "Nó 4, dist 3, pred 5\n",
      "Nó 5, dist 2, pred 1\n",
      "Nó 6, dist 9, pred 2\n",
      "Melhor caminho de 1 até 1:\n",
      "1\n",
      "com distância total = 0: \n",
      "\n",
      "Melhor caminho de 1 até 2:\n",
      "1 -> 5 -> 4 -> 3 -> 2\n",
      "com distância total = 6: \n",
      "\n",
      "Melhor caminho de 1 até 3:\n",
      "1 -> 5 -> 4 -> 3\n",
      "com distância total = 5: \n",
      "\n",
      "Melhor caminho de 1 até 4:\n",
      "1 -> 5 -> 4\n",
      "com distância total = 3: \n",
      "\n",
      "Melhor caminho de 1 até 5:\n",
      "1 -> 5\n",
      "com distância total = 2: \n",
      "\n",
      "Melhor caminho de 1 até 6:\n",
      "1 -> 5 -> 4 -> 3 -> 2 -> 6\n",
      "com distância total = 9: \n",
      "\n"
     ]
    }
   ],
   "source": [
    "# Utilizando\n",
    "start = 1\n",
    "dijkstra(start)\n",
    "\n",
    "#Reconstruindo caminho\n",
    "paths = [-1]\n",
    "for node_idx in present_nodes:\n",
    "    path, aux_idx = [], node_idx\n",
    "\n",
    "    while aux_idx != start:\n",
    "        path += [aux_idx]\n",
    "        aux_idx = pred[aux_idx]\n",
    "\n",
    "    path += [start]\n",
    "    paths += [list(reversed(path))]\n",
    "\n",
    "for i, path in enumerate(paths[1:]):\n",
    "    path = map(str, path)\n",
    "    distance = str(dist[node_idx]) if dist[node_idx] != oo else 'INF'\n",
    "    print('Melhor caminho de {} até {}:\\n{}'.format(start, i+1, ' -> '.join(path)))\n",
    "    print('com distância total = {}: '.format(dist[i+1]), end='\\n\\n')"
   ]
  }
 ],
 "metadata": {
  "kernelspec": {
   "display_name": "Python 3",
   "language": "python",
   "name": "python3"
  },
  "language_info": {
   "codemirror_mode": {
    "name": "ipython",
    "version": 3
   },
   "file_extension": ".py",
   "mimetype": "text/x-python",
   "name": "python",
   "nbconvert_exporter": "python",
   "pygments_lexer": "ipython3",
   "version": "3.7.1"
  }
 },
 "nbformat": 4,
 "nbformat_minor": 2
}
