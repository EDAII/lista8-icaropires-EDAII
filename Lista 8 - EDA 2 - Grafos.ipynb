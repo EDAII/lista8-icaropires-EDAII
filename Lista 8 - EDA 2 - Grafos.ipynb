{
 "cells": [
  {
   "cell_type": "markdown",
   "metadata": {},
   "source": [
    "# Lista 8 - EDA 2 - Grafos - Dijkstra usando heap (com ilustrações)\n",
    "**Aluno: Ícaro Pires de Souza Aragão**<br>\n",
    "**Matrícula: 15/0129815**"
   ]
  },
  {
   "cell_type": "markdown",
   "metadata": {},
   "source": [
    "## Preenchendo os dados"
   ]
  },
  {
   "cell_type": "code",
   "execution_count": 1,
   "metadata": {},
   "outputs": [
    {
     "name": "stdout",
     "output_type": "stream",
     "text": [
      "Insira o número de arestas: 9\n",
      "\tInsira a origem, destino e peso separados por espaço: 1 2 9\n",
      "\tInsira a origem, destino e peso separados por espaço: 1 3 7\n",
      "\tInsira a origem, destino e peso separados por espaço: 1 4 4\n",
      "\tInsira a origem, destino e peso separados por espaço: 1 5 2\n",
      "\tInsira a origem, destino e peso separados por espaço: 2 3 1\n",
      "\tInsira a origem, destino e peso separados por espaço: 2 6 3\n",
      "\tInsira a origem, destino e peso separados por espaço: 3 4 2\n",
      "\tInsira a origem, destino e peso separados por espaço: 4 5 1\n",
      "\tInsira a origem, destino e peso separados por espaço: 5 6 1\n",
      "\n",
      "Lista de adjacências:\n",
      "\tNó 1 tem conexão com: 2 (peso: 9), 3 (peso: 7), 4 (peso: 4), 5 (peso: 2)\n",
      "\tNó 2 tem conexão com: 1 (peso: 9), 3 (peso: 1), 6 (peso: 3)\n",
      "\tNó 3 tem conexão com: 1 (peso: 7), 2 (peso: 1), 4 (peso: 2)\n",
      "\tNó 4 tem conexão com: 1 (peso: 4), 3 (peso: 2), 5 (peso: 1)\n",
      "\tNó 5 tem conexão com: 1 (peso: 2), 4 (peso: 1), 6 (peso: 1)\n",
      "\tNó 6 tem conexão com: 2 (peso: 3), 5 (peso: 1)\n"
     ]
    }
   ],
   "source": [
    "from collections import namedtuple\n",
    "\n",
    "\n",
    "Edge = namedtuple('Edge', ('src', 'dest', 'weight'))\n",
    "Adj = namedtuple('Adj', ('dest', 'weight'))\n",
    "\n",
    "N = int(input('Insira o número de arestas: '))\n",
    "\n",
    "edges = [Edge(src, dest, weight) for _ in range(N) for src, dest, weight in\n",
    "         [map(int, input('\\tInsira a origem, destino e peso separados por espaço: ').split())]]\n",
    "\n",
    "adjs_list = [[] for _ in range(N+1)]\n",
    "for src, dest, weight in edges:\n",
    "    adjs_list[src].append(Adj(dest, weight))\n",
    "    adjs_list[dest].append(Adj(src, weight))\n",
    "         \n",
    "oo = 2**64\n",
    "dist = [oo for _ in range(N+1)]\n",
    "\n",
    "print('\\nLista de adjacências:')\n",
    "for i, adjs in enumerate(adjs_list):\n",
    "    if adjs:\n",
    "        print('\\tNó {} tem conexão com: {}'.format(\n",
    "            i, ', '.join(['{} (peso: {})'.format(adj.dest, adj.weight) for adj in adjs])\n",
    "        ))"
   ]
  },
  {
   "cell_type": "markdown",
   "metadata": {},
   "source": [
    "## Implementando algoritmo"
   ]
  },
  {
   "cell_type": "code",
   "execution_count": 6,
   "metadata": {},
   "outputs": [],
   "source": [
    "# Rodar primeiro a célula de preenchimento dos dados\n",
    "\n",
    "from heapq import heappop, heappush\n",
    "\n",
    "visited = set()\n",
    "\n",
    "def dijkstra(start, N):\n",
    "    global adjs_list\n",
    "    global visited\n",
    "    \n",
    "    dist[start] = 0\n",
    "    heap = []\n",
    "    \n",
    "    heappush(heap, (0, start)) # distância e nó\n",
    "    \n",
    "    while heap:\n",
    "        distance, node = heappop(heap)\n",
    "             \n",
    "        if node not in visited:\n",
    "            visited.add(node)\n",
    "\n",
    "            for dest, weight in adjs_list[node]:\n",
    "                if dist[dest] > distance + weight:\n",
    "                    dist[dest] = distance + weight\n",
    "                    heappush(heap, (dist[dest], dest))"
   ]
  },
  {
   "cell_type": "markdown",
   "metadata": {},
   "source": [
    "## Teste"
   ]
  },
  {
   "cell_type": "code",
   "execution_count": 8,
   "metadata": {},
   "outputs": [
    {
     "name": "stdout",
     "output_type": "stream",
     "text": [
      "Distância mínima de 1 a 1: 0\n",
      "Distância mínima de 1 a 2: 6\n",
      "Distância mínima de 1 a 3: 5\n",
      "Distância mínima de 1 a 4: 3\n",
      "Distância mínima de 1 a 5: 2\n",
      "Distância mínima de 1 a 6: 3\n"
     ]
    }
   ],
   "source": [
    "start = 1\n",
    "dijkstra(start, N)\n",
    "\n",
    "for node_idx in range(1, len(dist)):\n",
    "    if dist[node_idx] < oo:\n",
    "        print('Distância mínima de {} a {}: {}'.format(start, node_idx, dist[node_idx]))"
   ]
  },
  {
   "cell_type": "code",
   "execution_count": null,
   "metadata": {},
   "outputs": [],
   "source": []
  }
 ],
 "metadata": {
  "kernelspec": {
   "display_name": "Python 3",
   "language": "python",
   "name": "python3"
  },
  "language_info": {
   "codemirror_mode": {
    "name": "ipython",
    "version": 3
   },
   "file_extension": ".py",
   "mimetype": "text/x-python",
   "name": "python",
   "nbconvert_exporter": "python",
   "pygments_lexer": "ipython3",
   "version": "3.7.1"
  }
 },
 "nbformat": 4,
 "nbformat_minor": 2
}
